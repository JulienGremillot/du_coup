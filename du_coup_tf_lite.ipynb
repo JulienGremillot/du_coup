{
  "nbformat": 4,
  "nbformat_minor": 0,
  "metadata": {
    "colab": {
      "name": "du_coup_tf_lite.ipynb",
      "provenance": [],
      "authorship_tag": "ABX9TyNMZZOjleZaXNo4gMlzcDrj",
      "include_colab_link": true
    },
    "kernelspec": {
      "name": "python3",
      "display_name": "Python 3"
    },
    "language_info": {
      "name": "python"
    }
  },
  "cells": [
    {
      "cell_type": "markdown",
      "metadata": {
        "id": "view-in-github",
        "colab_type": "text"
      },
      "source": [
        "<a href=\"https://colab.research.google.com/github/JulienGremillot/du_coup/blob/main/du_coup_tf_lite.ipynb\" target=\"_parent\"><img src=\"https://colab.research.google.com/assets/colab-badge.svg\" alt=\"Open In Colab\"/></a>"
      ]
    },
    {
      "cell_type": "code",
      "execution_count": 1,
      "metadata": {
        "colab": {
          "base_uri": "https://localhost:8080/"
        },
        "id": "kxqJv2obvK8J",
        "outputId": "a9045c91-c372-4165-b41c-4ec80acc13ea"
      },
      "outputs": [
        {
          "output_type": "stream",
          "name": "stdout",
          "text": [
            "Collecting tflite-model-maker\n",
            "  Downloading tflite_model_maker-0.3.4-py3-none-any.whl (616 kB)\n",
            "\u001b[K     |████████████████████████████████| 616 kB 5.5 MB/s \n",
            "\u001b[?25hCollecting PyYAML>=5.1\n",
            "  Downloading PyYAML-6.0-cp37-cp37m-manylinux_2_5_x86_64.manylinux1_x86_64.manylinux_2_12_x86_64.manylinux2010_x86_64.whl (596 kB)\n",
            "\u001b[K     |████████████████████████████████| 596 kB 42.0 MB/s \n",
            "\u001b[?25hRequirement already satisfied: Cython>=0.29.13 in /usr/local/lib/python3.7/dist-packages (from tflite-model-maker) (0.29.28)\n",
            "Collecting flatbuffers==1.12\n",
            "  Downloading flatbuffers-1.12-py2.py3-none-any.whl (15 kB)\n",
            "Collecting neural-structured-learning>=1.3.1\n",
            "  Downloading neural_structured_learning-1.3.1-py2.py3-none-any.whl (120 kB)\n",
            "\u001b[K     |████████████████████████████████| 120 kB 32.4 MB/s \n",
            "\u001b[?25hRequirement already satisfied: librosa==0.8.1 in /usr/local/lib/python3.7/dist-packages (from tflite-model-maker) (0.8.1)\n",
            "Collecting tflite-support>=0.3.1\n",
            "  Downloading tflite_support-0.3.1-cp37-cp37m-manylinux_2_12_x86_64.manylinux2010_x86_64.whl (1.1 MB)\n",
            "\u001b[K     |████████████████████████████████| 1.1 MB 36.2 MB/s \n",
            "\u001b[?25hRequirement already satisfied: absl-py>=0.10.0 in /usr/local/lib/python3.7/dist-packages (from tflite-model-maker) (1.0.0)\n",
            "Collecting sentencepiece>=0.1.91\n",
            "  Downloading sentencepiece-0.1.96-cp37-cp37m-manylinux_2_17_x86_64.manylinux2014_x86_64.whl (1.2 MB)\n",
            "\u001b[K     |████████████████████████████████| 1.2 MB 15.0 MB/s \n",
            "\u001b[?25hRequirement already satisfied: urllib3!=1.25.0,!=1.25.1,<1.26,>=1.21.1 in /usr/local/lib/python3.7/dist-packages (from tflite-model-maker) (1.24.3)\n",
            "Collecting tensorflowjs>=2.4.0\n",
            "  Downloading tensorflowjs-3.14.0-py3-none-any.whl (77 kB)\n",
            "\u001b[K     |████████████████████████████████| 77 kB 3.1 MB/s \n",
            "\u001b[?25hCollecting tf-models-official==2.3.0\n",
            "  Downloading tf_models_official-2.3.0-py2.py3-none-any.whl (840 kB)\n",
            "\u001b[K     |████████████████████████████████| 840 kB 28.1 MB/s \n",
            "\u001b[?25hRequirement already satisfied: numpy>=1.17.3 in /usr/local/lib/python3.7/dist-packages (from tflite-model-maker) (1.21.5)\n",
            "Collecting fire>=0.3.1\n",
            "  Downloading fire-0.4.0.tar.gz (87 kB)\n",
            "\u001b[K     |████████████████████████████████| 87 kB 3.5 MB/s \n",
            "\u001b[?25hRequirement already satisfied: matplotlib<3.5.0,>=3.0.3 in /usr/local/lib/python3.7/dist-packages (from tflite-model-maker) (3.2.2)\n",
            "Requirement already satisfied: six>=1.12.0 in /usr/local/lib/python3.7/dist-packages (from tflite-model-maker) (1.15.0)\n",
            "Collecting tensorflow-model-optimization>=0.5\n",
            "  Downloading tensorflow_model_optimization-0.7.1-py2.py3-none-any.whl (234 kB)\n",
            "\u001b[K     |████████████████████████████████| 234 kB 45.0 MB/s \n",
            "\u001b[?25hRequirement already satisfied: pillow>=7.0.0 in /usr/local/lib/python3.7/dist-packages (from tflite-model-maker) (7.1.2)\n",
            "Collecting tensorflow-addons>=0.11.2\n",
            "  Downloading tensorflow_addons-0.16.1-cp37-cp37m-manylinux_2_12_x86_64.manylinux2010_x86_64.whl (1.1 MB)\n",
            "\u001b[K     |████████████████████████████████| 1.1 MB 45.0 MB/s \n",
            "\u001b[?25hRequirement already satisfied: tensorflow-hub<0.13,>=0.7.0 in /usr/local/lib/python3.7/dist-packages (from tflite-model-maker) (0.12.0)\n",
            "Requirement already satisfied: tensorflow-datasets>=2.1.0 in /usr/local/lib/python3.7/dist-packages (from tflite-model-maker) (4.0.1)\n",
            "Collecting lxml>=4.6.1\n",
            "  Downloading lxml-4.8.0-cp37-cp37m-manylinux_2_17_x86_64.manylinux2014_x86_64.manylinux_2_24_x86_64.whl (6.4 MB)\n",
            "\u001b[K     |████████████████████████████████| 6.4 MB 50.8 MB/s \n",
            "\u001b[?25hCollecting numba==0.53\n",
            "  Downloading numba-0.53.0-cp37-cp37m-manylinux2014_x86_64.whl (3.4 MB)\n",
            "\u001b[K     |████████████████████████████████| 3.4 MB 45.4 MB/s \n",
            "\u001b[?25hRequirement already satisfied: tensorflow>=2.6.0 in /usr/local/lib/python3.7/dist-packages (from tflite-model-maker) (2.8.0)\n",
            "Requirement already satisfied: scikit-learn!=0.19.0,>=0.14.0 in /usr/local/lib/python3.7/dist-packages (from librosa==0.8.1->tflite-model-maker) (1.0.2)\n",
            "Requirement already satisfied: scipy>=1.0.0 in /usr/local/lib/python3.7/dist-packages (from librosa==0.8.1->tflite-model-maker) (1.4.1)\n",
            "Requirement already satisfied: soundfile>=0.10.2 in /usr/local/lib/python3.7/dist-packages (from librosa==0.8.1->tflite-model-maker) (0.10.3.post1)\n",
            "Requirement already satisfied: audioread>=2.0.0 in /usr/local/lib/python3.7/dist-packages (from librosa==0.8.1->tflite-model-maker) (2.1.9)\n",
            "Requirement already satisfied: resampy>=0.2.2 in /usr/local/lib/python3.7/dist-packages (from librosa==0.8.1->tflite-model-maker) (0.2.2)\n",
            "Requirement already satisfied: packaging>=20.0 in /usr/local/lib/python3.7/dist-packages (from librosa==0.8.1->tflite-model-maker) (21.3)\n",
            "Requirement already satisfied: pooch>=1.0 in /usr/local/lib/python3.7/dist-packages (from librosa==0.8.1->tflite-model-maker) (1.6.0)\n",
            "Requirement already satisfied: decorator>=3.0.0 in /usr/local/lib/python3.7/dist-packages (from librosa==0.8.1->tflite-model-maker) (4.4.2)\n",
            "Requirement already satisfied: joblib>=0.14 in /usr/local/lib/python3.7/dist-packages (from librosa==0.8.1->tflite-model-maker) (1.1.0)\n",
            "Requirement already satisfied: setuptools in /usr/local/lib/python3.7/dist-packages (from numba==0.53->tflite-model-maker) (57.4.0)\n",
            "Collecting llvmlite<0.37,>=0.36.0rc1\n",
            "  Downloading llvmlite-0.36.0-cp37-cp37m-manylinux2010_x86_64.whl (25.3 MB)\n",
            "\u001b[K     |████████████████████████████████| 25.3 MB 6.0 MB/s \n",
            "\u001b[?25hCollecting opencv-python-headless\n",
            "  Downloading opencv_python_headless-4.5.5.64-cp36-abi3-manylinux_2_17_x86_64.manylinux2014_x86_64.whl (47.8 MB)\n",
            "\u001b[K     |████████████████████████████████| 47.8 MB 1.6 MB/s \n",
            "\u001b[?25hRequirement already satisfied: google-cloud-bigquery>=0.31.0 in /usr/local/lib/python3.7/dist-packages (from tf-models-official==2.3.0->tflite-model-maker) (1.21.0)\n",
            "Collecting dataclasses\n",
            "  Downloading dataclasses-0.6-py3-none-any.whl (14 kB)\n",
            "Requirement already satisfied: psutil>=5.4.3 in /usr/local/lib/python3.7/dist-packages (from tf-models-official==2.3.0->tflite-model-maker) (5.4.8)\n",
            "Requirement already satisfied: pandas>=0.22.0 in /usr/local/lib/python3.7/dist-packages (from tf-models-official==2.3.0->tflite-model-maker) (1.3.5)\n",
            "Collecting py-cpuinfo>=3.3.0\n",
            "  Downloading py-cpuinfo-8.0.0.tar.gz (99 kB)\n",
            "\u001b[K     |████████████████████████████████| 99 kB 8.6 MB/s \n",
            "\u001b[?25hRequirement already satisfied: kaggle>=1.3.9 in /usr/local/lib/python3.7/dist-packages (from tf-models-official==2.3.0->tflite-model-maker) (1.5.12)\n",
            "Requirement already satisfied: gin-config in /usr/local/lib/python3.7/dist-packages (from tf-models-official==2.3.0->tflite-model-maker) (0.5.0)\n",
            "Collecting tf-slim>=1.1.0\n",
            "  Downloading tf_slim-1.1.0-py2.py3-none-any.whl (352 kB)\n",
            "\u001b[K     |████████████████████████████████| 352 kB 51.5 MB/s \n",
            "\u001b[?25hRequirement already satisfied: google-api-python-client>=1.6.7 in /usr/local/lib/python3.7/dist-packages (from tf-models-official==2.3.0->tflite-model-maker) (1.12.10)\n",
            "Requirement already satisfied: termcolor in /usr/local/lib/python3.7/dist-packages (from fire>=0.3.1->tflite-model-maker) (1.1.0)\n",
            "Requirement already satisfied: uritemplate<4dev,>=3.0.0 in /usr/local/lib/python3.7/dist-packages (from google-api-python-client>=1.6.7->tf-models-official==2.3.0->tflite-model-maker) (3.0.1)\n",
            "Requirement already satisfied: google-auth<3dev,>=1.16.0 in /usr/local/lib/python3.7/dist-packages (from google-api-python-client>=1.6.7->tf-models-official==2.3.0->tflite-model-maker) (1.35.0)\n",
            "Requirement already satisfied: google-auth-httplib2>=0.0.3 in /usr/local/lib/python3.7/dist-packages (from google-api-python-client>=1.6.7->tf-models-official==2.3.0->tflite-model-maker) (0.0.4)\n",
            "Requirement already satisfied: httplib2<1dev,>=0.15.0 in /usr/local/lib/python3.7/dist-packages (from google-api-python-client>=1.6.7->tf-models-official==2.3.0->tflite-model-maker) (0.17.4)\n",
            "Requirement already satisfied: google-api-core<3dev,>=1.21.0 in /usr/local/lib/python3.7/dist-packages (from google-api-python-client>=1.6.7->tf-models-official==2.3.0->tflite-model-maker) (1.26.3)\n",
            "Requirement already satisfied: requests<3.0.0dev,>=2.18.0 in /usr/local/lib/python3.7/dist-packages (from google-api-core<3dev,>=1.21.0->google-api-python-client>=1.6.7->tf-models-official==2.3.0->tflite-model-maker) (2.23.0)\n",
            "Requirement already satisfied: pytz in /usr/local/lib/python3.7/dist-packages (from google-api-core<3dev,>=1.21.0->google-api-python-client>=1.6.7->tf-models-official==2.3.0->tflite-model-maker) (2018.9)\n",
            "Requirement already satisfied: protobuf>=3.12.0 in /usr/local/lib/python3.7/dist-packages (from google-api-core<3dev,>=1.21.0->google-api-python-client>=1.6.7->tf-models-official==2.3.0->tflite-model-maker) (3.17.3)\n",
            "Requirement already satisfied: googleapis-common-protos<2.0dev,>=1.6.0 in /usr/local/lib/python3.7/dist-packages (from google-api-core<3dev,>=1.21.0->google-api-python-client>=1.6.7->tf-models-official==2.3.0->tflite-model-maker) (1.55.0)\n",
            "Requirement already satisfied: rsa<5,>=3.1.4 in /usr/local/lib/python3.7/dist-packages (from google-auth<3dev,>=1.16.0->google-api-python-client>=1.6.7->tf-models-official==2.3.0->tflite-model-maker) (4.8)\n",
            "Requirement already satisfied: pyasn1-modules>=0.2.1 in /usr/local/lib/python3.7/dist-packages (from google-auth<3dev,>=1.16.0->google-api-python-client>=1.6.7->tf-models-official==2.3.0->tflite-model-maker) (0.2.8)\n",
            "Requirement already satisfied: cachetools<5.0,>=2.0.0 in /usr/local/lib/python3.7/dist-packages (from google-auth<3dev,>=1.16.0->google-api-python-client>=1.6.7->tf-models-official==2.3.0->tflite-model-maker) (4.2.4)\n",
            "Requirement already satisfied: google-cloud-core<2.0dev,>=1.0.3 in /usr/local/lib/python3.7/dist-packages (from google-cloud-bigquery>=0.31.0->tf-models-official==2.3.0->tflite-model-maker) (1.0.3)\n",
            "Requirement already satisfied: google-resumable-media!=0.4.0,<0.5.0dev,>=0.3.1 in /usr/local/lib/python3.7/dist-packages (from google-cloud-bigquery>=0.31.0->tf-models-official==2.3.0->tflite-model-maker) (0.4.1)\n",
            "Requirement already satisfied: python-slugify in /usr/local/lib/python3.7/dist-packages (from kaggle>=1.3.9->tf-models-official==2.3.0->tflite-model-maker) (6.1.1)\n",
            "Requirement already satisfied: certifi in /usr/local/lib/python3.7/dist-packages (from kaggle>=1.3.9->tf-models-official==2.3.0->tflite-model-maker) (2021.10.8)\n",
            "Requirement already satisfied: python-dateutil in /usr/local/lib/python3.7/dist-packages (from kaggle>=1.3.9->tf-models-official==2.3.0->tflite-model-maker) (2.8.2)\n",
            "Requirement already satisfied: tqdm in /usr/local/lib/python3.7/dist-packages (from kaggle>=1.3.9->tf-models-official==2.3.0->tflite-model-maker) (4.63.0)\n",
            "Requirement already satisfied: cycler>=0.10 in /usr/local/lib/python3.7/dist-packages (from matplotlib<3.5.0,>=3.0.3->tflite-model-maker) (0.11.0)\n",
            "Requirement already satisfied: pyparsing!=2.0.4,!=2.1.2,!=2.1.6,>=2.0.1 in /usr/local/lib/python3.7/dist-packages (from matplotlib<3.5.0,>=3.0.3->tflite-model-maker) (3.0.7)\n",
            "Requirement already satisfied: kiwisolver>=1.0.1 in /usr/local/lib/python3.7/dist-packages (from matplotlib<3.5.0,>=3.0.3->tflite-model-maker) (1.3.2)\n",
            "Requirement already satisfied: attrs in /usr/local/lib/python3.7/dist-packages (from neural-structured-learning>=1.3.1->tflite-model-maker) (21.4.0)\n",
            "Requirement already satisfied: appdirs>=1.3.0 in /usr/local/lib/python3.7/dist-packages (from pooch>=1.0->librosa==0.8.1->tflite-model-maker) (1.4.4)\n",
            "Requirement already satisfied: pyasn1<0.5.0,>=0.4.6 in /usr/local/lib/python3.7/dist-packages (from pyasn1-modules>=0.2.1->google-auth<3dev,>=1.16.0->google-api-python-client>=1.6.7->tf-models-official==2.3.0->tflite-model-maker) (0.4.8)\n",
            "Requirement already satisfied: chardet<4,>=3.0.2 in /usr/local/lib/python3.7/dist-packages (from requests<3.0.0dev,>=2.18.0->google-api-core<3dev,>=1.21.0->google-api-python-client>=1.6.7->tf-models-official==2.3.0->tflite-model-maker) (3.0.4)\n",
            "Requirement already satisfied: idna<3,>=2.5 in /usr/local/lib/python3.7/dist-packages (from requests<3.0.0dev,>=2.18.0->google-api-core<3dev,>=1.21.0->google-api-python-client>=1.6.7->tf-models-official==2.3.0->tflite-model-maker) (2.10)\n",
            "Requirement already satisfied: threadpoolctl>=2.0.0 in /usr/local/lib/python3.7/dist-packages (from scikit-learn!=0.19.0,>=0.14.0->librosa==0.8.1->tflite-model-maker) (3.1.0)\n",
            "Requirement already satisfied: cffi>=1.0 in /usr/local/lib/python3.7/dist-packages (from soundfile>=0.10.2->librosa==0.8.1->tflite-model-maker) (1.15.0)\n",
            "Requirement already satisfied: pycparser in /usr/local/lib/python3.7/dist-packages (from cffi>=1.0->soundfile>=0.10.2->librosa==0.8.1->tflite-model-maker) (2.21)\n",
            "Requirement already satisfied: keras-preprocessing>=1.1.1 in /usr/local/lib/python3.7/dist-packages (from tensorflow>=2.6.0->tflite-model-maker) (1.1.2)\n",
            "Requirement already satisfied: tensorboard<2.9,>=2.8 in /usr/local/lib/python3.7/dist-packages (from tensorflow>=2.6.0->tflite-model-maker) (2.8.0)\n",
            "Requirement already satisfied: keras<2.9,>=2.8.0rc0 in /usr/local/lib/python3.7/dist-packages (from tensorflow>=2.6.0->tflite-model-maker) (2.8.0)\n",
            "Requirement already satisfied: tensorflow-io-gcs-filesystem>=0.23.1 in /usr/local/lib/python3.7/dist-packages (from tensorflow>=2.6.0->tflite-model-maker) (0.24.0)\n",
            "Requirement already satisfied: grpcio<2.0,>=1.24.3 in /usr/local/lib/python3.7/dist-packages (from tensorflow>=2.6.0->tflite-model-maker) (1.44.0)\n",
            "Collecting tf-estimator-nightly==2.8.0.dev2021122109\n",
            "  Downloading tf_estimator_nightly-2.8.0.dev2021122109-py2.py3-none-any.whl (462 kB)\n",
            "\u001b[K     |████████████████████████████████| 462 kB 55.5 MB/s \n",
            "\u001b[?25hRequirement already satisfied: typing-extensions>=3.6.6 in /usr/local/lib/python3.7/dist-packages (from tensorflow>=2.6.0->tflite-model-maker) (3.10.0.2)\n",
            "Requirement already satisfied: gast>=0.2.1 in /usr/local/lib/python3.7/dist-packages (from tensorflow>=2.6.0->tflite-model-maker) (0.5.3)\n",
            "Requirement already satisfied: google-pasta>=0.1.1 in /usr/local/lib/python3.7/dist-packages (from tensorflow>=2.6.0->tflite-model-maker) (0.2.0)\n",
            "Requirement already satisfied: opt-einsum>=2.3.2 in /usr/local/lib/python3.7/dist-packages (from tensorflow>=2.6.0->tflite-model-maker) (3.3.0)\n",
            "Requirement already satisfied: h5py>=2.9.0 in /usr/local/lib/python3.7/dist-packages (from tensorflow>=2.6.0->tflite-model-maker) (3.1.0)\n",
            "Requirement already satisfied: astunparse>=1.6.0 in /usr/local/lib/python3.7/dist-packages (from tensorflow>=2.6.0->tflite-model-maker) (1.6.3)\n",
            "Requirement already satisfied: wrapt>=1.11.0 in /usr/local/lib/python3.7/dist-packages (from tensorflow>=2.6.0->tflite-model-maker) (1.13.3)\n",
            "Requirement already satisfied: libclang>=9.0.1 in /usr/local/lib/python3.7/dist-packages (from tensorflow>=2.6.0->tflite-model-maker) (13.0.0)\n",
            "Requirement already satisfied: wheel<1.0,>=0.23.0 in /usr/local/lib/python3.7/dist-packages (from astunparse>=1.6.0->tensorflow>=2.6.0->tflite-model-maker) (0.37.1)\n",
            "Requirement already satisfied: cached-property in /usr/local/lib/python3.7/dist-packages (from h5py>=2.9.0->tensorflow>=2.6.0->tflite-model-maker) (1.5.2)\n",
            "Requirement already satisfied: tensorboard-plugin-wit>=1.6.0 in /usr/local/lib/python3.7/dist-packages (from tensorboard<2.9,>=2.8->tensorflow>=2.6.0->tflite-model-maker) (1.8.1)\n",
            "Requirement already satisfied: google-auth-oauthlib<0.5,>=0.4.1 in /usr/local/lib/python3.7/dist-packages (from tensorboard<2.9,>=2.8->tensorflow>=2.6.0->tflite-model-maker) (0.4.6)\n",
            "Requirement already satisfied: markdown>=2.6.8 in /usr/local/lib/python3.7/dist-packages (from tensorboard<2.9,>=2.8->tensorflow>=2.6.0->tflite-model-maker) (3.3.6)\n",
            "Requirement already satisfied: werkzeug>=0.11.15 in /usr/local/lib/python3.7/dist-packages (from tensorboard<2.9,>=2.8->tensorflow>=2.6.0->tflite-model-maker) (1.0.1)\n",
            "Requirement already satisfied: tensorboard-data-server<0.7.0,>=0.6.0 in /usr/local/lib/python3.7/dist-packages (from tensorboard<2.9,>=2.8->tensorflow>=2.6.0->tflite-model-maker) (0.6.1)\n",
            "Requirement already satisfied: requests-oauthlib>=0.7.0 in /usr/local/lib/python3.7/dist-packages (from google-auth-oauthlib<0.5,>=0.4.1->tensorboard<2.9,>=2.8->tensorflow>=2.6.0->tflite-model-maker) (1.3.1)\n",
            "Requirement already satisfied: importlib-metadata>=4.4 in /usr/local/lib/python3.7/dist-packages (from markdown>=2.6.8->tensorboard<2.9,>=2.8->tensorflow>=2.6.0->tflite-model-maker) (4.11.2)\n",
            "Requirement already satisfied: zipp>=0.5 in /usr/local/lib/python3.7/dist-packages (from importlib-metadata>=4.4->markdown>=2.6.8->tensorboard<2.9,>=2.8->tensorflow>=2.6.0->tflite-model-maker) (3.7.0)\n",
            "Requirement already satisfied: oauthlib>=3.0.0 in /usr/local/lib/python3.7/dist-packages (from requests-oauthlib>=0.7.0->google-auth-oauthlib<0.5,>=0.4.1->tensorboard<2.9,>=2.8->tensorflow>=2.6.0->tflite-model-maker) (3.2.0)\n",
            "Requirement already satisfied: typeguard>=2.7 in /usr/local/lib/python3.7/dist-packages (from tensorflow-addons>=0.11.2->tflite-model-maker) (2.7.1)\n",
            "Requirement already satisfied: promise in /usr/local/lib/python3.7/dist-packages (from tensorflow-datasets>=2.1.0->tflite-model-maker) (2.3)\n",
            "Requirement already satisfied: importlib-resources in /usr/local/lib/python3.7/dist-packages (from tensorflow-datasets>=2.1.0->tflite-model-maker) (5.4.0)\n",
            "Requirement already satisfied: future in /usr/local/lib/python3.7/dist-packages (from tensorflow-datasets>=2.1.0->tflite-model-maker) (0.16.0)\n",
            "Requirement already satisfied: dm-tree in /usr/local/lib/python3.7/dist-packages (from tensorflow-datasets>=2.1.0->tflite-model-maker) (0.1.6)\n",
            "Requirement already satisfied: tensorflow-metadata in /usr/local/lib/python3.7/dist-packages (from tensorflow-datasets>=2.1.0->tflite-model-maker) (1.7.0)\n",
            "Requirement already satisfied: dill in /usr/local/lib/python3.7/dist-packages (from tensorflow-datasets>=2.1.0->tflite-model-maker) (0.3.4)\n",
            "Collecting pybind11>=2.6.0\n",
            "  Downloading pybind11-2.9.1-py2.py3-none-any.whl (211 kB)\n",
            "\u001b[K     |████████████████████████████████| 211 kB 45.3 MB/s \n",
            "\u001b[?25hRequirement already satisfied: text-unidecode>=1.3 in /usr/local/lib/python3.7/dist-packages (from python-slugify->kaggle>=1.3.9->tf-models-official==2.3.0->tflite-model-maker) (1.3)\n",
            "Building wheels for collected packages: fire, py-cpuinfo\n",
            "  Building wheel for fire (setup.py) ... \u001b[?25l\u001b[?25hdone\n",
            "  Created wheel for fire: filename=fire-0.4.0-py2.py3-none-any.whl size=115942 sha256=ce38178947cdf9c4aeef4f2644f7df10daeec36c1b826ecb9edcf04e18a09025\n",
            "  Stored in directory: /root/.cache/pip/wheels/8a/67/fb/2e8a12fa16661b9d5af1f654bd199366799740a85c64981226\n",
            "  Building wheel for py-cpuinfo (setup.py) ... \u001b[?25l\u001b[?25hdone\n",
            "  Created wheel for py-cpuinfo: filename=py_cpuinfo-8.0.0-py3-none-any.whl size=22257 sha256=e4ea4794adf5f8c842b695b2bc370c3086a75be58127c42912e5b9cccd8c977c\n",
            "  Stored in directory: /root/.cache/pip/wheels/d2/f1/1f/041add21dc9c4220157f1bd2bd6afe1f1a49524c3396b94401\n",
            "Successfully built fire py-cpuinfo\n",
            "Installing collected packages: llvmlite, tf-estimator-nightly, numba, flatbuffers, tf-slim, tensorflow-model-optimization, tensorflow-addons, sentencepiece, PyYAML, pybind11, py-cpuinfo, opencv-python-headless, dataclasses, tflite-support, tf-models-official, tensorflowjs, neural-structured-learning, lxml, fire, tflite-model-maker\n",
            "  Attempting uninstall: llvmlite\n",
            "    Found existing installation: llvmlite 0.34.0\n",
            "    Uninstalling llvmlite-0.34.0:\n",
            "      Successfully uninstalled llvmlite-0.34.0\n",
            "  Attempting uninstall: numba\n",
            "    Found existing installation: numba 0.51.2\n",
            "    Uninstalling numba-0.51.2:\n",
            "      Successfully uninstalled numba-0.51.2\n",
            "  Attempting uninstall: flatbuffers\n",
            "    Found existing installation: flatbuffers 2.0\n",
            "    Uninstalling flatbuffers-2.0:\n",
            "      Successfully uninstalled flatbuffers-2.0\n",
            "  Attempting uninstall: PyYAML\n",
            "    Found existing installation: PyYAML 3.13\n",
            "    Uninstalling PyYAML-3.13:\n",
            "      Successfully uninstalled PyYAML-3.13\n",
            "  Attempting uninstall: lxml\n",
            "    Found existing installation: lxml 4.2.6\n",
            "    Uninstalling lxml-4.2.6:\n",
            "      Successfully uninstalled lxml-4.2.6\n",
            "Successfully installed PyYAML-6.0 dataclasses-0.6 fire-0.4.0 flatbuffers-1.12 llvmlite-0.36.0 lxml-4.8.0 neural-structured-learning-1.3.1 numba-0.53.0 opencv-python-headless-4.5.5.64 py-cpuinfo-8.0.0 pybind11-2.9.1 sentencepiece-0.1.96 tensorflow-addons-0.16.1 tensorflow-model-optimization-0.7.1 tensorflowjs-3.14.0 tf-estimator-nightly-2.8.0.dev2021122109 tf-models-official-2.3.0 tf-slim-1.1.0 tflite-model-maker-0.3.4 tflite-support-0.3.1\n"
          ]
        }
      ],
      "source": [
        "! pip install tflite-model-maker"
      ]
    },
    {
      "cell_type": "code",
      "source": [
        "import os\n",
        "import glob\n",
        "import random\n",
        "import shutil\n",
        "\n",
        "import librosa\n",
        "import soundfile as sf\n",
        "from IPython.display import Audio\n",
        "import numpy as np\n",
        "import matplotlib.pyplot as plt\n",
        "import seaborn as sns\n",
        "\n",
        "import tensorflow as tf\n",
        "import tflite_model_maker as mm\n",
        "from tflite_model_maker import audio_classifier\n",
        "from tflite_model_maker.config import ExportFormat\n",
        "\n",
        "print(f\"TensorFlow Version: {tf.__version__}\")\n",
        "print(f\"Model Maker Version: {mm.__version__}\")"
      ],
      "metadata": {
        "colab": {
          "base_uri": "https://localhost:8080/"
        },
        "id": "oaNHrnBrvRqE",
        "outputId": "d60428f9-a9b9-4b62-e2b0-cc010cee1ebc"
      },
      "execution_count": 2,
      "outputs": [
        {
          "output_type": "stream",
          "name": "stdout",
          "text": [
            "TensorFlow Version: 2.8.0\n",
            "Model Maker Version: 0.3.4\n"
          ]
        }
      ]
    },
    {
      "cell_type": "code",
      "source": [
        "from google.colab import drive\n",
        "import os\n",
        "drive.mount(\"/content/gdrive\", force_remount=False)"
      ],
      "metadata": {
        "colab": {
          "base_uri": "https://localhost:8080/"
        },
        "id": "7thtleLSvhxI",
        "outputId": "8bc7299f-979e-474b-8e73-7c00e295633b"
      },
      "execution_count": 3,
      "outputs": [
        {
          "output_type": "stream",
          "name": "stdout",
          "text": [
            "Mounted at /content/gdrive\n"
          ]
        }
      ]
    },
    {
      "cell_type": "code",
      "source": [
        "import shutil\n",
        "import pathlib\n",
        "dataset_dir = '/tmp/data'\n",
        "src_du_coup = pathlib.Path('/content/gdrive/MyDrive/Colab Notebooks/du_coup')\n",
        "dst_du_coup = pathlib.Path(os.path.join(dataset_dir, 'du_coup'))\n",
        "if not dst_du_coup.exists():\n",
        "  print('Copie le répertoire', src_du_coup, 'vers', dst_du_coup)\n",
        "  shutil.copytree(src_du_coup, dst_du_coup)\n",
        "else:\n",
        "  print('Le répertoire', dst_du_coup, 'existe déjà.')"
      ],
      "metadata": {
        "colab": {
          "base_uri": "https://localhost:8080/"
        },
        "id": "9Ju5RtdPvqty",
        "outputId": "dd7b92cc-047e-4664-ff75-a1bc9360c579"
      },
      "execution_count": 9,
      "outputs": [
        {
          "output_type": "stream",
          "name": "stdout",
          "text": [
            "Le répertoire /tmp/data/du_coup existe déjà.\n"
          ]
        }
      ]
    },
    {
      "cell_type": "code",
      "source": [
        "tf.keras.utils.get_file('speech_commands_v0.01.tar.gz',\n",
        "                        'http://download.tensorflow.org/data/speech_commands_v0.01.tar.gz',\n",
        "                        cache_dir='./',\n",
        "                        cache_subdir='dataset-speech',\n",
        "                        extract=True)\n",
        "tf.keras.utils.get_file('background_audio.zip',\n",
        "                        'https://storage.googleapis.com/download.tensorflow.org/models/tflite/sound_classification/background_audio.zip',\n",
        "                        cache_dir='./',\n",
        "                        cache_subdir='dataset-background',\n",
        "                        extract=True)"
      ],
      "metadata": {
        "colab": {
          "base_uri": "https://localhost:8080/",
          "height": 140
        },
        "id": "lRunKIZ3wGrn",
        "outputId": "590c68fd-039a-4cfd-db9d-275d55872178"
      },
      "execution_count": 7,
      "outputs": [
        {
          "output_type": "stream",
          "name": "stdout",
          "text": [
            "Downloading data from http://download.tensorflow.org/data/speech_commands_v0.01.tar.gz\n",
            "1489100800/1489096277 [==============================] - 10s 0us/step\n",
            "1489108992/1489096277 [==============================] - 10s 0us/step\n",
            "Downloading data from https://storage.googleapis.com/download.tensorflow.org/models/tflite/sound_classification/background_audio.zip\n",
            "1073152/1072437 [==============================] - 0s 0us/step\n",
            "1081344/1072437 [==============================] - 0s 0us/step\n"
          ]
        },
        {
          "output_type": "execute_result",
          "data": {
            "text/plain": [
              "'./dataset-background/background_audio.zip'"
            ],
            "application/vnd.google.colaboratory.intrinsic+json": {
              "type": "string"
            }
          },
          "metadata": {},
          "execution_count": 7
        }
      ]
    },
    {
      "cell_type": "code",
      "source": [
        "# Create a list of all the background wav files\n",
        "files = glob.glob(os.path.join('./dataset-speech/_background_noise_', '*.wav'))\n",
        "files = files + glob.glob(os.path.join('./dataset-background', '*.wav'))\n",
        "\n",
        "background_dir = './background'\n",
        "os.makedirs(background_dir, exist_ok=True)\n",
        "\n",
        "# Loop through all files and split each into several one-second wav files\n",
        "for file in files:\n",
        "  filename = os.path.basename(os.path.normpath(file))\n",
        "  print('Splitting', filename)\n",
        "  name = os.path.splitext(filename)[0]\n",
        "  rate = librosa.get_samplerate(file)\n",
        "  length = round(librosa.get_duration(filename=file))\n",
        "  for i in range(length - 1):\n",
        "    start = i * rate\n",
        "    stop = (i * rate) + rate\n",
        "    data, _ = sf.read(file, start=start, stop=stop)\n",
        "    sf.write(os.path.join(background_dir, name + str(i) + '.wav'), data, rate)"
      ],
      "metadata": {
        "colab": {
          "base_uri": "https://localhost:8080/"
        },
        "id": "-WWN5KfMwOTP",
        "outputId": "75850436-6cdd-421f-fc7a-a59b83531a34"
      },
      "execution_count": 8,
      "outputs": [
        {
          "output_type": "stream",
          "name": "stdout",
          "text": [
            "Splitting doing_the_dishes.wav\n",
            "Splitting pink_noise.wav\n",
            "Splitting exercise_bike.wav\n",
            "Splitting dude_miaowing.wav\n",
            "Splitting running_tap.wav\n",
            "Splitting white_noise.wav\n",
            "Splitting throat_clearing.wav\n",
            "Splitting silence.wav\n"
          ]
        }
      ]
    },
    {
      "cell_type": "code",
      "source": [
        "def move_background_dataset(dataset_dir):\n",
        "  dest_dir = os.path.join(dataset_dir, 'background')\n",
        "  if os.path.exists(dest_dir):\n",
        "    files = glob.glob(os.path.join(background_dir, '*.wav'))\n",
        "    for file in files:\n",
        "      shutil.move(file, dest_dir)\n",
        "  else:\n",
        "    shutil.move(background_dir, dest_dir)"
      ],
      "metadata": {
        "id": "2XwTHmY_xDxQ"
      },
      "execution_count": 10,
      "outputs": []
    },
    {
      "cell_type": "code",
      "source": [
        "# Move background samples into custom dataset\n",
        "move_background_dataset(dataset_dir)\n",
        "\n",
        "# Now we separate some of the files that we'll use for testing:\n",
        "test_dir = './dataset-test'\n",
        "test_data_ratio = 0.2\n",
        "dirs = glob.glob(os.path.join(dataset_dir, '*/'))\n",
        "for dir in dirs:\n",
        "  files = glob.glob(os.path.join(dir, '*.wav'))\n",
        "  test_count = round(len(files) * test_data_ratio)\n",
        "  random.seed(42)\n",
        "  random.shuffle(files)\n",
        "  # Move test samples:\n",
        "  for file in files[:test_count]:\n",
        "    class_dir = os.path.basename(os.path.normpath(dir))\n",
        "    os.makedirs(os.path.join(test_dir, class_dir), exist_ok=True)\n",
        "    os.rename(file, os.path.join(test_dir, class_dir, os.path.basename(file)))\n",
        "  print('Moved', test_count, 'images from', class_dir)"
      ],
      "metadata": {
        "colab": {
          "base_uri": "https://localhost:8080/"
        },
        "id": "jT5HmkhHxJVV",
        "outputId": "5c1e9720-707d-4112-cc08-0df0f3af222a"
      },
      "execution_count": 11,
      "outputs": [
        {
          "output_type": "stream",
          "name": "stdout",
          "text": [
            "Moved 85 images from background\n",
            "Moved 37 images from du_coup\n"
          ]
        }
      ]
    },
    {
      "cell_type": "code",
      "source": [
        "def get_random_audio_file(samples_dir):\n",
        "  files = os.path.abspath(os.path.join(samples_dir, '*/*.wav'))\n",
        "  files_list = glob.glob(files)\n",
        "  random_audio_path = random.choice(files_list)\n",
        "  return random_audio_path\n",
        "\n",
        "def show_sample(audio_path):\n",
        "  audio_data, sample_rate = sf.read(audio_path)\n",
        "  class_name = os.path.basename(os.path.dirname(audio_path))\n",
        "  print(f'Class: {class_name}')\n",
        "  print(f'File: {audio_path}')\n",
        "  print(f'Sample rate: {sample_rate}')\n",
        "  print(f'Sample length: {len(audio_data)}')\n",
        "\n",
        "  plt.title(class_name)\n",
        "  plt.plot(audio_data)\n",
        "  display(Audio(audio_data, rate=sample_rate))"
      ],
      "metadata": {
        "id": "1ctHfab7xQ56"
      },
      "execution_count": 12,
      "outputs": []
    },
    {
      "cell_type": "code",
      "source": [
        "random_audio = get_random_audio_file(test_dir)\n",
        "show_sample(random_audio)"
      ],
      "metadata": {
        "colab": {
          "base_uri": "https://localhost:8080/",
          "height": 409
        },
        "id": "fzD6kfYSxTaL",
        "outputId": "3b0a54e3-f12f-4bd6-93ab-926e46b9ec93"
      },
      "execution_count": 13,
      "outputs": [
        {
          "output_type": "stream",
          "name": "stdout",
          "text": [
            "Class: du_coup\n",
            "File: /content/dataset-test/du_coup/du_coup_gabriel_08.wav\n",
            "Sample rate: 16000\n",
            "Sample length: 7616\n"
          ]
        },
        {
          "output_type": "display_data",
          "data": {
            "text/plain": [
              "<IPython.lib.display.Audio object>"
            ],
            "text/html": [
              "\n",
              "                <audio controls=\"controls\" >\n",
              "                    <source src=\"data:audio/wav;base64,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\" type=\"audio/wav\" />\n",
              "                    Your browser does not support the audio element.\n",
              "                </audio>\n",
              "              "
            ]
          },
          "metadata": {}
        },
        {
          "output_type": "display_data",
          "data": {
            "text/plain": [
              "<Figure size 432x288 with 1 Axes>"
            ],
            "image/png": "[encoded data removed]"
          },
          "metadata": {
            "needs_background": "light"
          }
        }
      ]
    },
    {
      "cell_type": "code",
      "source": [
        "spec = audio_classifier.BrowserFftSpec()"
      ],
      "metadata": {
        "colab": {
          "base_uri": "https://localhost:8080/"
        },
        "id": "J7asLhBGxYer",
        "outputId": "76b064b2-c9be-495a-db66-c7101cbf78cc"
      },
      "execution_count": 14,
      "outputs": [
        {
          "output_type": "stream",
          "name": "stdout",
          "text": [
            "INFO:tensorflow:Checkpoints are stored in /tmp/tmpncp474_t\n",
            "Downloading data from https://storage.googleapis.com/tfjs-models/tfjs/speech-commands/conversion/sc_preproc_model.tar.gz\n",
            "24576/18467 [=======================================] - 0s 0us/step\n",
            "32768/18467 [=====================================================] - 0s 0us/step\n",
            "WARNING:tensorflow:SavedModel saved prior to TF 2.5 detected when loading Keras model. Please ensure that you are saving the model with model.save() or tf.keras.models.save_model(), *NOT* tf.saved_model.save(). To confirm, there should be a file named \"keras_metadata.pb\" in the SavedModel directory.\n",
            "WARNING:tensorflow:No training configuration found in save file, so the model was *not* compiled. Compile it manually.\n",
            "Downloading data from https://storage.googleapis.com/tfjs-models/tfjs/speech-commands/v0.3/browser_fft/18w/metadata.json\n",
            "16384/203 [=====================================================================================================================================================================================================================================================================================================================================================================================================================================================================================================================================================================================================================================================================================================================================================================================================================================================================================================================================================================================================================================================================================================================================================================================================================================================================================================================================================================================================================================================================================================================================================================================================================================================================================================================================================================================================================================================================================================================================================================================================================================================================================================================================================================================================================================================================================================================================================================================================================================================================================================================] - 0s 0us/step\n",
            "Downloading data from https://storage.googleapis.com/tfjs-models/tfjs/speech-commands/v0.3/browser_fft/18w/model.json\n",
            "16384/5466 [=========================================================================================] - 0s 0us/step\n",
            "Downloading data from https://storage.googleapis.com/tfjs-models/tfjs/speech-commands/v0.3/browser_fft/18w/group1-shard1of2\n",
            "4194304/4194304 [==============================] - 0s 0us/step\n",
            "4202496/4194304 [==============================] - 0s 0us/step\n",
            "Downloading data from https://storage.googleapis.com/tfjs-models/tfjs/speech-commands/v0.3/browser_fft/18w/group1-shard2of2\n",
            "1687552/1680432 [==============================] - 0s 0us/step\n",
            "1695744/1680432 [==============================] - 0s 0us/step\n"
          ]
        }
      ]
    },
    {
      "cell_type": "code",
      "source": [
        "train_data_ratio = 0.8\n",
        "train_data = audio_classifier.DataLoader.from_folder(\n",
        "    spec, dataset_dir, cache=True)\n",
        "train_data, validation_data = train_data.split(train_data_ratio)\n",
        "test_data = audio_classifier.DataLoader.from_folder(\n",
        "    spec, test_dir, cache=True)"
      ],
      "metadata": {
        "id": "sxMRPF-Bxcjr"
      },
      "execution_count": 15,
      "outputs": []
    },
    {
      "cell_type": "code",
      "source": [
        "batch_size = 25\n",
        "epochs = 25\n",
        "model = audio_classifier.create(train_data, spec, validation_data, batch_size, epochs)"
      ],
      "metadata": {
        "colab": {
          "base_uri": "https://localhost:8080/"
        },
        "id": "5vmG1IItxhTW",
        "outputId": "d9e74548-695e-493d-f1e6-3f0d9c7c814e"
      },
      "execution_count": 16,
      "outputs": [
        {
          "output_type": "stream",
          "name": "stdout",
          "text": [
            "Model: \"sequential_1\"\n",
            "_________________________________________________________________\n",
            " Layer (type)                Output Shape              Param #   \n",
            "=================================================================\n",
            " conv2d_1 (Conv2D)           (None, 42, 225, 8)        136       \n",
            "                                                                 \n",
            " max_pooling2d_1 (MaxPooling  (None, 21, 112, 8)       0         \n",
            " 2D)                                                             \n",
            "                                                                 \n",
            " conv2d_2 (Conv2D)           (None, 20, 109, 32)       2080      \n",
            "                                                                 \n",
            " max_pooling2d_2 (MaxPooling  (None, 10, 54, 32)       0         \n",
            " 2D)                                                             \n",
            "                                                                 \n",
            " conv2d_3 (Conv2D)           (None, 9, 51, 32)         8224      \n",
            "                                                                 \n",
            " max_pooling2d_3 (MaxPooling  (None, 4, 25, 32)        0         \n",
            " 2D)                                                             \n",
            "                                                                 \n",
            " conv2d_4 (Conv2D)           (None, 3, 22, 32)         8224      \n",
            "                                                                 \n",
            " max_pooling2d_4 (MaxPooling  (None, 2, 11, 32)        0         \n",
            " 2D)                                                             \n",
            "                                                                 \n",
            " flatten_1 (Flatten)         (None, 704)               0         \n",
            "                                                                 \n",
            " dropout_1 (Dropout)         (None, 704)               0         \n",
            "                                                                 \n",
            " dense_1 (Dense)             (None, 2000)              1410000   \n",
            "                                                                 \n",
            " dropout_2 (Dropout)         (None, 2000)              0         \n",
            "                                                                 \n",
            " classification_head (Dense)  (None, 2)                4002      \n",
            "                                                                 \n",
            "=================================================================\n",
            "Total params: 1,432,666\n",
            "Trainable params: 4,002\n",
            "Non-trainable params: 1,428,664\n",
            "_________________________________________________________________\n",
            "Epoch 1/25\n",
            "11/11 [==============================] - 25s 2s/step - loss: 0.3642 - acc: 0.8839 - val_loss: 0.0013 - val_acc: 1.0000\n",
            "Epoch 2/25\n",
            "11/11 [==============================] - 1s 75ms/step - loss: 0.0027 - acc: 1.0000 - val_loss: 2.1942e-04 - val_acc: 1.0000\n",
            "Epoch 3/25\n",
            "11/11 [==============================] - 1s 77ms/step - loss: 4.8958e-04 - acc: 1.0000 - val_loss: 1.1959e-04 - val_acc: 1.0000\n",
            "Epoch 4/25\n",
            "11/11 [==============================] - 1s 76ms/step - loss: 8.4136e-05 - acc: 1.0000 - val_loss: 9.6136e-05 - val_acc: 1.0000\n",
            "Epoch 5/25\n",
            "11/11 [==============================] - 1s 76ms/step - loss: 4.9067e-04 - acc: 1.0000 - val_loss: 8.8290e-05 - val_acc: 1.0000\n",
            "Epoch 6/25\n",
            "11/11 [==============================] - 1s 78ms/step - loss: 4.0650e-04 - acc: 1.0000 - val_loss: 8.4827e-05 - val_acc: 1.0000\n",
            "Epoch 7/25\n",
            "11/11 [==============================] - 1s 79ms/step - loss: 3.3740e-04 - acc: 1.0000 - val_loss: 8.2273e-05 - val_acc: 1.0000\n",
            "Epoch 8/25\n",
            "11/11 [==============================] - 1s 78ms/step - loss: 9.2500e-05 - acc: 1.0000 - val_loss: 8.0558e-05 - val_acc: 1.0000\n",
            "Epoch 9/25\n",
            "11/11 [==============================] - 1s 75ms/step - loss: 7.2425e-05 - acc: 1.0000 - val_loss: 7.9681e-05 - val_acc: 1.0000\n",
            "Epoch 10/25\n",
            "11/11 [==============================] - 1s 78ms/step - loss: 1.4070e-04 - acc: 1.0000 - val_loss: 7.9045e-05 - val_acc: 1.0000\n",
            "Epoch 11/25\n",
            "11/11 [==============================] - 1s 78ms/step - loss: 7.2174e-05 - acc: 1.0000 - val_loss: 7.8456e-05 - val_acc: 1.0000\n",
            "Epoch 12/25\n",
            "11/11 [==============================] - 1s 77ms/step - loss: 6.4521e-05 - acc: 1.0000 - val_loss: 7.7932e-05 - val_acc: 1.0000\n",
            "Epoch 13/25\n",
            "11/11 [==============================] - 1s 77ms/step - loss: 1.0970e-04 - acc: 1.0000 - val_loss: 7.7461e-05 - val_acc: 1.0000\n",
            "Epoch 14/25\n",
            "11/11 [==============================] - 1s 81ms/step - loss: 1.4975e-04 - acc: 1.0000 - val_loss: 7.6516e-05 - val_acc: 1.0000\n",
            "Epoch 15/25\n",
            "11/11 [==============================] - 2s 164ms/step - loss: 9.9921e-05 - acc: 1.0000 - val_loss: 7.5682e-05 - val_acc: 1.0000\n",
            "Epoch 16/25\n",
            "11/11 [==============================] - 1s 83ms/step - loss: 8.7207e-05 - acc: 1.0000 - val_loss: 7.5048e-05 - val_acc: 1.0000\n",
            "Epoch 17/25\n",
            "11/11 [==============================] - 1s 76ms/step - loss: 8.6479e-05 - acc: 1.0000 - val_loss: 7.4379e-05 - val_acc: 1.0000\n",
            "Epoch 18/25\n",
            "11/11 [==============================] - 1s 75ms/step - loss: 9.6349e-05 - acc: 1.0000 - val_loss: 7.3671e-05 - val_acc: 1.0000\n",
            "Epoch 19/25\n",
            "11/11 [==============================] - 1s 78ms/step - loss: 1.3992e-04 - acc: 1.0000 - val_loss: 7.2833e-05 - val_acc: 1.0000\n",
            "Epoch 20/25\n",
            "11/11 [==============================] - 1s 77ms/step - loss: 7.6699e-05 - acc: 1.0000 - val_loss: 7.1961e-05 - val_acc: 1.0000\n",
            "Epoch 21/25\n",
            "11/11 [==============================] - 1s 78ms/step - loss: 1.0276e-04 - acc: 1.0000 - val_loss: 7.1191e-05 - val_acc: 1.0000\n",
            "Epoch 22/25\n",
            "11/11 [==============================] - 1s 81ms/step - loss: 4.4020e-05 - acc: 1.0000 - val_loss: 7.0592e-05 - val_acc: 1.0000\n",
            "Epoch 23/25\n",
            "11/11 [==============================] - 1s 76ms/step - loss: 4.1587e-05 - acc: 1.0000 - val_loss: 7.0102e-05 - val_acc: 1.0000\n",
            "Epoch 24/25\n",
            "11/11 [==============================] - 1s 78ms/step - loss: 4.1022e-05 - acc: 1.0000 - val_loss: 6.9696e-05 - val_acc: 1.0000\n",
            "Epoch 25/25\n",
            "11/11 [==============================] - 1s 76ms/step - loss: 6.2947e-05 - acc: 1.0000 - val_loss: 6.9274e-05 - val_acc: 1.0000\n"
          ]
        }
      ]
    },
    {
      "cell_type": "code",
      "source": [
        "model.evaluate(test_data)"
      ],
      "metadata": {
        "colab": {
          "base_uri": "https://localhost:8080/"
        },
        "id": "LORX2bHO0Xrx",
        "outputId": "9d65d6a0-cb65-47ed-b2aa-1490ae8c71a6"
      },
      "execution_count": 17,
      "outputs": [
        {
          "output_type": "stream",
          "name": "stdout",
          "text": [
            "3/3 [==============================] - 6s 2s/step - loss: 0.1792 - acc: 0.9884\n"
          ]
        },
        {
          "output_type": "execute_result",
          "data": {
            "text/plain": [
              "[0.17916922271251678, 0.9883720874786377]"
            ]
          },
          "metadata": {},
          "execution_count": 17
        }
      ]
    },
    {
      "cell_type": "code",
      "source": [
        "def show_confusion_matrix(confusion, test_labels):\n",
        "  \"\"\"Compute confusion matrix and normalize.\"\"\"\n",
        "  confusion_normalized = confusion.astype(\"float\") / confusion.sum(axis=1)\n",
        "  sns.set(rc = {'figure.figsize':(6,6)})\n",
        "  sns.heatmap(\n",
        "      confusion_normalized, xticklabels=test_labels, yticklabels=test_labels,\n",
        "      cmap='Blues', annot=True, fmt='.2f', square=True, cbar=False)\n",
        "  plt.title(\"Confusion matrix\")\n",
        "  plt.ylabel(\"True label\")\n",
        "  plt.xlabel(\"Predicted label\")\n",
        "\n",
        "confusion_matrix = model.confusion_matrix(test_data)\n",
        "show_confusion_matrix(confusion_matrix.numpy(), test_data.index_to_label)"
      ],
      "metadata": {
        "colab": {
          "base_uri": "https://localhost:8080/",
          "height": 410
        },
        "id": "gcCI7zUb0fkE",
        "outputId": "66f8139e-f248-4953-9539-fa458ed91b31"
      },
      "execution_count": 18,
      "outputs": [
        {
          "output_type": "display_data",
          "data": {
            "text/plain": [
              "<Figure size 432x432 with 1 Axes>"
            ],
            "image/png": "[encoded data removed]"
          },
          "metadata": {}
        }
      ]
    },
    {
      "cell_type": "code",
      "source": [
        "TFLITE_FILENAME = 'browserfft-speech.tflite'\n",
        "SAVE_PATH = './models'\n",
        "print(f'Exporting the model to {SAVE_PATH}')\n",
        "model.export(SAVE_PATH, tflite_filename=TFLITE_FILENAME)\n",
        "model.export(SAVE_PATH, export_format=[mm.ExportFormat.SAVED_MODEL, mm.ExportFormat.LABEL])"
      ],
      "metadata": {
        "colab": {
          "base_uri": "https://localhost:8080/"
        },
        "id": "jcQIhfkt0x7t",
        "outputId": "99c9d3d9-e04b-4958-90b0-5562978a0a35"
      },
      "execution_count": 20,
      "outputs": [
        {
          "output_type": "stream",
          "name": "stdout",
          "text": [
            "Exporing the model to ./models\n",
            "INFO:tensorflow:Assets written to: /tmp/tmpqn2zldz7/assets\n",
            "INFO:tensorflow:TensorFlow Lite model exported successfully: ./models/browserfft-speech.tflite\n"
          ]
        },
        {
          "output_type": "stream",
          "name": "stderr",
          "text": [
            "INFO:tensorflow:TensorFlow Lite model exported successfully: ./models/browserfft-speech.tflite\n"
          ]
        },
        {
          "output_type": "stream",
          "name": "stdout",
          "text": [
            "WARNING:tensorflow:Compiled the loaded model, but the compiled metrics have yet to be built. `model.compile_metrics` will be empty until you train or evaluate the model.\n"
          ]
        },
        {
          "output_type": "stream",
          "name": "stderr",
          "text": [
            "WARNING:tensorflow:Compiled the loaded model, but the compiled metrics have yet to be built. `model.compile_metrics` will be empty until you train or evaluate the model.\n"
          ]
        },
        {
          "output_type": "stream",
          "name": "stdout",
          "text": [
            "INFO:tensorflow:Assets written to: ./models/saved_model/assets\n"
          ]
        },
        {
          "output_type": "stream",
          "name": "stderr",
          "text": [
            "INFO:tensorflow:Assets written to: ./models/saved_model/assets\n"
          ]
        },
        {
          "output_type": "stream",
          "name": "stdout",
          "text": [
            "INFO:tensorflow:Saving labels in ./models/labels.txt\n"
          ]
        },
        {
          "output_type": "stream",
          "name": "stderr",
          "text": [
            "INFO:tensorflow:Saving labels in ./models/labels.txt\n"
          ]
        }
      ]
    },
    {
      "cell_type": "code",
      "source": [
        " !pip install -q tflite_support"
      ],
      "metadata": {
        "id": "-zvhg-Ec1Eb9"
      },
      "execution_count": 21,
      "outputs": []
    },
    {
      "cell_type": "code",
      "source": [
        "from tflite_support import metadata\n",
        "import json\n",
        "\n",
        "def get_labels(model):\n",
        "  \"\"\"Returns a list of labels, extracted from the model metadata.\"\"\"\n",
        "  displayer = metadata.MetadataDisplayer.with_model_file(model)\n",
        "  labels_file = displayer.get_packed_associated_file_list()[0]\n",
        "  labels = displayer.get_associated_file_buffer(labels_file).decode()\n",
        "  return [line for line in labels.split('\\n')]\n",
        "\n",
        "def get_input_sample_rate(model):\n",
        "  \"\"\"Returns the model's expected sample rate, from the model metadata.\"\"\"\n",
        "  displayer = metadata.MetadataDisplayer.with_model_file(model)\n",
        "  metadata_json = json.loads(displayer.get_metadata_json())\n",
        "  input_tensor_metadata = metadata_json['subgraph_metadata'][0][\n",
        "          'input_tensor_metadata'][0]\n",
        "  input_content_props = input_tensor_metadata['content']['content_properties']\n",
        "  return input_content_props['sample_rate']"
      ],
      "metadata": {
        "id": "H384oDeH1VdV"
      },
      "execution_count": 22,
      "outputs": []
    },
    {
      "cell_type": "code",
      "source": [
        "# Get a WAV file for inference and list of labels from the model\n",
        "tflite_file = os.path.join(SAVE_PATH, TFLITE_FILENAME)\n",
        "labels = get_labels(tflite_file)\n",
        "random_audio = get_random_audio_file(test_dir)\n",
        "\n",
        "# Ensure the audio sample fits the model input\n",
        "interpreter = tf.lite.Interpreter(tflite_file)\n",
        "input_details = interpreter.get_input_details()\n",
        "output_details = interpreter.get_output_details()\n",
        "input_size = input_details[0]['shape'][1]\n",
        "sample_rate = get_input_sample_rate(tflite_file)\n",
        "audio_data, _ = librosa.load(random_audio, sr=sample_rate)\n",
        "if len(audio_data) < input_size:\n",
        "  audio_data.resize(input_size)\n",
        "audio_data = np.expand_dims(audio_data[:input_size], axis=0)\n",
        "\n",
        "# Run inference\n",
        "interpreter.allocate_tensors()\n",
        "interpreter.set_tensor(input_details[0]['index'], audio_data)\n",
        "interpreter.invoke()\n",
        "output_data = interpreter.get_tensor(output_details[0]['index'])\n",
        "\n",
        "# Display prediction and ground truth\n",
        "top_index = np.argmax(output_data[0])\n",
        "label = labels[top_index]\n",
        "score = output_data[0][top_index]\n",
        "print('---prediction---')\n",
        "print(f'Class: {label}\\nScore: {score}')\n",
        "print('----truth----')\n",
        "show_sample(random_audio)"
      ],
      "metadata": {
        "colab": {
          "base_uri": "https://localhost:8080/",
          "height": 590
        },
        "id": "qYgC41851Z0x",
        "outputId": "7c92ac01-aca4-4c70-a066-23adb4641273"
      },
      "execution_count": 23,
      "outputs": [
        {
          "output_type": "stream",
          "name": "stdout",
          "text": [
            "---prediction---\n",
            "Class: background\n",
            "Score: 1.0\n",
            "----truth----\n",
            "Class: du_coup\n",
            "File: /content/dataset-test/du_coup/du_coup_p_01.wav\n",
            "Sample rate: 16000\n",
            "Sample length: 14175\n"
          ]
        },
        {
          "output_type": "display_data",
          "data": {
            "text/plain": [
              "<IPython.lib.display.Audio object>"
            ],
            "text/html": [
              "\n",
              "                <audio controls=\"controls\" >\n",
              "                    <source src=\"data:audio/wav;base64,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\" type=\"audio/wav\" />\n",
              "                    Your browser does not support the audio element.\n",
              "                </audio>\n",
              "              "
            ]
          },
          "metadata": {}
        },
        {
          "output_type": "display_data",
          "data": {
            "text/plain": [
              "<Figure size 432x432 with 1 Axes>"
            ],
            "image/png": "[encoded data removed]"
          },
          "metadata": {}
        }
      ]
    },
    {
      "cell_type": "code",
      "source": [
        "try:\n",
        "  from google.colab import files\n",
        "except ImportError:\n",
        "  pass\n",
        "else:\n",
        "  files.download(tflite_file)"
      ],
      "metadata": {
        "colab": {
          "base_uri": "https://localhost:8080/",
          "height": 17
        },
        "id": "lO90__uZ1gym",
        "outputId": "c4950518-5291-4803-eea6-fcc4a3bacbd9"
      },
      "execution_count": 24,
      "outputs": [
        {
          "output_type": "display_data",
          "data": {
            "text/plain": [
              "<IPython.core.display.Javascript object>"
            ],
            "application/javascript": [
              "\n",
              "    async function download(id, filename, size) {\n",
              "      if (!google.colab.kernel.accessAllowed) {\n",
              "        return;\n",
              "      }\n",
              "      const div = document.createElement('div');\n",
              "      const label = document.createElement('label');\n",
              "      label.textContent = `Downloading \"${filename}\": `;\n",
              "      div.appendChild(label);\n",
              "      const progress = document.createElement('progress');\n",
              "      progress.max = size;\n",
              "      div.appendChild(progress);\n",
              "      document.body.appendChild(div);\n",
              "\n",
              "      const buffers = [];\n",
              "      let downloaded = 0;\n",
              "\n",
              "      const channel = await google.colab.kernel.comms.open(id);\n",
              "      // Send a message to notify the kernel that we're ready.\n",
              "      channel.send({})\n",
              "\n",
              "      for await (const message of channel.messages) {\n",
              "        // Send a message to notify the kernel that we're ready.\n",
              "        channel.send({})\n",
              "        if (message.buffers) {\n",
              "          for (const buffer of message.buffers) {\n",
              "            buffers.push(buffer);\n",
              "            downloaded += buffer.byteLength;\n",
              "            progress.value = downloaded;\n",
              "          }\n",
              "        }\n",
              "      }\n",
              "      const blob = new Blob(buffers, {type: 'application/binary'});\n",
              "      const a = document.createElement('a');\n",
              "      a.href = window.URL.createObjectURL(blob);\n",
              "      a.download = filename;\n",
              "      div.appendChild(a);\n",
              "      a.click();\n",
              "      div.remove();\n",
              "    }\n",
              "  "
            ]
          },
          "metadata": {}
        },
        {
          "output_type": "display_data",
          "data": {
            "text/plain": [
              "<IPython.core.display.Javascript object>"
            ],
            "application/javascript": [
              "download(\"download_a01e3593-6fda-4a22-99ac-f977f3533124\", \"browserfft-speech.tflite\", 5758408)"
            ]
          },
          "metadata": {}
        }
      ]
    }
  ]
}